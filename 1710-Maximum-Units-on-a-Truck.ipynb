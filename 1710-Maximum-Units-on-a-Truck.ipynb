{
 "cells": [
  {
   "cell_type": "markdown",
   "metadata": {},
   "source": [
    "![1710](./images/1710.png)"
   ]
  },
  {
   "cell_type": "code",
   "execution_count": null,
   "metadata": {},
   "outputs": [],
   "source": [
    "# 1 - Sort + Greedy\n",
    "\n",
    "class Solution:\n",
    "  def maximumUnits(self, boxTypes: List[List[int]], truckSize: int) -> int:\n",
    "    boxTypes.sort(key = lambda x:x[1], reverse=True)\n",
    "    result = 0\n",
    "    i = 0\n",
    "    while i < len(boxTypes) and truckSize != 0:\n",
    "      maxSize = min(boxTypes[i][0], truckSize)\n",
    "      result += maxSize * boxTypes[i][1]\n",
    "\n",
    "      if maxSize == boxTypes[i][0]:\n",
    "        i += 1\n",
    "      truckSize -= maxSize\n",
    "    return result"
   ]
  },
  {
   "cell_type": "markdown",
   "metadata": {},
   "source": [
    "**Big-O**\n",
    "- Time complexity: `O(nlogn)` - Reverse sorting of list\n",
    "- Space complexity: `O(n)` - Sorting method implements timsort (similar to merge sort)\n",
    "\n",
    "**Thoughts**\n",
    "- The problem hints to a greedy approach since we are trying to maximise the units on the truck\n",
    "- In order to make the most optimal decision of which box to take, we should prioritise the boxes that have the largest units in them since their weights are all the same\n",
    "  - Example 2 then shows that the units for the boxes may be unordered, hence we sort the boxes from the largest unit to smallest unit. This ensures that when we do add a box, we are making the best possible decision by taking boxes with the higher unit-to-weight ratios first, before those of lower value"
   ]
  }
 ],
 "metadata": {
  "language_info": {
   "name": "python"
  },
  "orig_nbformat": 4
 },
 "nbformat": 4,
 "nbformat_minor": 2
}
