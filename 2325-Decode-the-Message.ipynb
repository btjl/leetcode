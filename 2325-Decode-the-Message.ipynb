{
 "cells": [
  {
   "cell_type": "markdown",
   "metadata": {},
   "source": [
    "![2325_1](./images/2325_1.png)\n",
    "![2325_2](./images/2325_2.png)"
   ]
  },
  {
   "cell_type": "code",
   "execution_count": null,
   "metadata": {},
   "outputs": [],
   "source": [
    "# 1 - Hashing\n",
    "\n",
    "class Solution:\n",
    "  def decodeMessage(self, key: str, message: str) -> str:\n",
    "    keyMapping = {\" \" : \" \"}\n",
    "    curOrd = 97\n",
    "    for char in key:\n",
    "      if char in keyMapping or char == \" \":\n",
    "        continue\n",
    "      keyMapping[char] = chr(curOrd)\n",
    "      curOrd += 1\n",
    "      if len(keyMapping) == 27:\n",
    "        break\n",
    "    \n",
    "    result = \"\"\n",
    "    for letter in message:\n",
    "      result += keyMapping[letter]\n",
    "    return result"
   ]
  },
  {
   "cell_type": "markdown",
   "metadata": {},
   "source": [
    "**Big-O**\n",
    "- Time complexity: `O(max(key, message))` - if the key contains many duplicate letters, we would have to process all of it before building up the full hashmap. Conversely if the key maps exactly to 26 letters, then it is constant space and the time complexity would be bound by how large the message is\n",
    "- Space complexity: `O(1)` - mapping of 26 letters is constant\n",
    "\n",
    "**Thoughts**\n",
    "- The break helps to speed up the efficiency by ensuring that we do not process redundant mappings if all of it has been discovered in the early iterations of the loop"
   ]
  }
 ],
 "metadata": {
  "language_info": {
   "name": "python"
  },
  "orig_nbformat": 4
 },
 "nbformat": 4,
 "nbformat_minor": 2
}
