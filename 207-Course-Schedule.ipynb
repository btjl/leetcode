{
 "cells": [
  {
   "cell_type": "markdown",
   "metadata": {},
   "source": [
    "![207](./images/207.png)"
   ]
  },
  {
   "cell_type": "code",
   "execution_count": null,
   "metadata": {},
   "outputs": [],
   "source": [
    "# 1 - DFS + Cycle detection + Backtracking\n",
    "\n",
    "class Solution:\n",
    "  def canFinish(self, numCourses: int, prerequisited: List[List[int]]) -> bool:\n",
    "    \n",
    "    adjList = {i: [] for i in range(numCourses)}\n",
    "\n",
    "    def dfs(vertex):\n",
    "      visited.add(vertex)\n",
    "      curPath.add(vertex)\n",
    "      \n",
    "      for neighbour in adjList[vertex]:\n",
    "        if (neighbour in curPath or \n",
    "            neighbour not in visited and not dfs(neighbour)):\n",
    "          return False\n",
    "\n",
    "      curPath.remove(vertex)\n",
    "      return True\n",
    "\n",
    "    visited = set()\n",
    "    for vertex in adjList:\n",
    "      if vertex not in visited:\n",
    "        curPath = set()\n",
    "        if not dfs(vertex):\n",
    "          return False\n",
    "    return True"
   ]
  },
  {
   "cell_type": "markdown",
   "metadata": {},
   "source": [
    "**Big-O**\n",
    "- Time complexity: `O(V + E)` - where V is the number of courses and E is the number of prerequisite pairs, since we have to visit all the courses and their neighbours\n",
    "- Space complexity: `O(V + E)` - adjacency list stores all the vertices and their outgoing edges\n",
    "\n",
    "**Thoughts**\n",
    "- Fundamental graph cycle detection algorithm\n",
    "- An alternative to keeping track of visited verticies to save on repeated work is to modify the adjacency list upon returning from a depth first search exploration for a given vertex. Upon returning from the callstack, we could set `adjList[curNode] = []` which indicates that we have fully explored all of this node's neighbours and subsequent checks would skip this node since there is no neighbours to explore.\n",
    "  - Credit: NeetCode's solution https://www.youtube.com/watch?v=EgI5nU9etnU"
   ]
  }
 ],
 "metadata": {
  "language_info": {
   "name": "python"
  },
  "orig_nbformat": 4
 },
 "nbformat": 4,
 "nbformat_minor": 2
}
