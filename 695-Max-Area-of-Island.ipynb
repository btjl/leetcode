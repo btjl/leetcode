{
 "cells": [
  {
   "cell_type": "markdown",
   "metadata": {},
   "source": [
    "![695](./images/695.png)"
   ]
  },
  {
   "cell_type": "code",
   "execution_count": null,
   "metadata": {},
   "outputs": [],
   "source": [
    "# 1 - DFS + Recursion\n",
    "\n",
    "class Solution:\n",
    "  def maxAreaOfIsland(self, grid: List[List[int]]) -> int:\n",
    "    ROWS, COLS = len(grid), len(grid[0]) - 1\n",
    "\n",
    "    def dfs(row, col, curArea):\n",
    "      if (row < 0 or row > ROWS - 1 or \n",
    "          col < 0 or col > COLS - 1 or\n",
    "          grid[row][col] == 0 or\n",
    "          grid[row][col] == - 1):\n",
    "        return 0\n",
    "\n",
    "      grid[row][col] = -1\n",
    "\n",
    "      return (1 +\n",
    "              dfs(row - 1, col, curArea) +\n",
    "              dfs(row + 1, col, curArea) +\n",
    "              dfs(row, col - 1, curArea) +\n",
    "              dfs(row, col + 1, curArea))\n",
    "\n",
    "    maxArea = 0\n",
    "    for row in range(ROWS):\n",
    "      for col in range(COLS):\n",
    "        if (grid[row][col] == 1):\n",
    "          maxArea = max(maxArea, dfs(row, col, 1))\n",
    "    return maxArea"
   ]
  },
  {
   "cell_type": "markdown",
   "metadata": {},
   "source": [
    "**Big-O**\n",
    "- Time complexity: `O(m * n)`, since we visit every cell in the matrix once\n",
    "- Space complexity: `O(m * n)`, worst-case is when the entire matrix is one connected island and hence we need a recursion call stack that holds all the cells from index `(0, 0)` to `(m - 1, n - 1)`\n",
    "\n",
    "**Thoughts**\n",
    "- Opt for an iterative version of this solution since recursive algorithms are limited by the size of the call stack. An iterative version maintains its own stack of which we can control the size. This usually makes an iterative approach more scalable than a recursive one."
   ]
  }
 ],
 "metadata": {
  "kernelspec": {
   "display_name": "Python 3.8.10 64-bit",
   "language": "python",
   "name": "python3"
  },
  "language_info": {
   "name": "python",
   "version": "3.8.10"
  },
  "orig_nbformat": 4,
  "vscode": {
   "interpreter": {
    "hash": "916dbcbb3f70747c44a77c7bcd40155683ae19c65e1c03b4aa3499c5328201f1"
   }
  }
 },
 "nbformat": 4,
 "nbformat_minor": 2
}
