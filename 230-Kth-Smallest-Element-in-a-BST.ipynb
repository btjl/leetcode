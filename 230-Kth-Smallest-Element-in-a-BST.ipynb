{
 "cells": [
  {
   "cell_type": "markdown",
   "metadata": {},
   "source": [
    "![203_1](./images/230_1.png)\n",
    "\n",
    "![230_2](./images/230_2.png)"
   ]
  },
  {
   "cell_type": "code",
   "execution_count": null,
   "metadata": {},
   "outputs": [],
   "source": [
    "# 1 - Iterative inorder traversal\n",
    "\n",
    "# Definition of a binary tree node.\n",
    "# class TreeNode:\n",
    "#   def __init__(self, val=0, left=None, right=None):\n",
    "#     self.val = val\n",
    "#     self.left = left\n",
    "#     self.right = right\n",
    "\n",
    "class Solution:\n",
    "  def kthSmallest(self, root: Optional[TreeNode], k: int) -> int:\n",
    "    \n",
    "    stack = []\n",
    "    cur = root\n",
    "    count = 0\n",
    "    while cur or stack:\n",
    "      while cur:\n",
    "        stack.append(cur)\n",
    "        cur = cur.left\n",
    "      cur = stack.pop()\n",
    "      count += 1 \n",
    "      if count == k:\n",
    "        return cur.val\n",
    "      cur = cur.right\n",
    "    return -1"
   ]
  },
  {
   "cell_type": "markdown",
   "metadata": {},
   "source": [
    "**Big-O**\n",
    "- Time complexity: `O(n + k)` - iterating through a left/right skewed tree and popping k nodes from the stack\n",
    "- Space complexity: `O(n)` - a left/right skewed tree with all the nodes in the stack\n",
    "\n",
    "**Thoughts**\n",
    "- Slight modification to inorder traversal of tree\n",
    "- Iterative approach allows us to keep a reference to the number of nodes visited in the inorder traversal\n",
    "- Recursive approach would probably need a class variable "
   ]
  }
 ],
 "metadata": {
  "kernelspec": {
   "display_name": "Python 3.8.10 64-bit",
   "language": "python",
   "name": "python3"
  },
  "language_info": {
   "codemirror_mode": {
    "name": "ipython",
    "version": 3
   },
   "file_extension": ".py",
   "mimetype": "text/x-python",
   "name": "python",
   "nbconvert_exporter": "python",
   "pygments_lexer": "ipython3",
   "version": "3.8.10"
  },
  "orig_nbformat": 4,
  "vscode": {
   "interpreter": {
    "hash": "916dbcbb3f70747c44a77c7bcd40155683ae19c65e1c03b4aa3499c5328201f1"
   }
  }
 },
 "nbformat": 4,
 "nbformat_minor": 2
}
