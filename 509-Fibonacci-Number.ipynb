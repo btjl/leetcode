{
 "cells": [
  {
   "cell_type": "markdown",
   "metadata": {},
   "source": [
    "![509](./images/509.png)"
   ]
  },
  {
   "cell_type": "code",
   "execution_count": 1,
   "metadata": {},
   "outputs": [],
   "source": [
    "# 1 - Dynamic Programming\n",
    "\n",
    "class Solution:\n",
    "  def fib(self, n: int) -> int:\n",
    "    if n <= 1:\n",
    "      return n\n",
    "    \n",
    "    prev, cur = 0, 1\n",
    "    for i in range(2, n + 1):\n",
    "      prev, cur = cur, prev + cur\n",
    "    return cur"
   ]
  },
  {
   "cell_type": "markdown",
   "metadata": {},
   "source": [
    "**Big-O**\n",
    "- Time complexity: `O(n)` - iterate from 2 to n\n",
    "- Space complexit: `O(1)` - 2 extra variables\n",
    "\n",
    "**Thoughts**\n",
    "- Classic dynamic programming problem\n",
    "- The current value is dependent on 2 values before it, hence we continuously update the current and previous values to reflect this relationship, up to n"
   ]
  }
 ],
 "metadata": {
  "kernelspec": {
   "display_name": "Python 3.8.10 64-bit",
   "language": "python",
   "name": "python3"
  },
  "language_info": {
   "codemirror_mode": {
    "name": "ipython",
    "version": 3
   },
   "file_extension": ".py",
   "mimetype": "text/x-python",
   "name": "python",
   "nbconvert_exporter": "python",
   "pygments_lexer": "ipython3",
   "version": "3.8.10"
  },
  "orig_nbformat": 4,
  "vscode": {
   "interpreter": {
    "hash": "916dbcbb3f70747c44a77c7bcd40155683ae19c65e1c03b4aa3499c5328201f1"
   }
  }
 },
 "nbformat": 4,
 "nbformat_minor": 2
}
