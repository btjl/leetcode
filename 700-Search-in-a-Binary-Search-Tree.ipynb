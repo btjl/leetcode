{
 "cells": [
  {
   "cell_type": "markdown",
   "metadata": {},
   "source": [
    "![700](./images/700.png)"
   ]
  },
  {
   "cell_type": "code",
   "execution_count": null,
   "metadata": {},
   "outputs": [],
   "source": [
    "# 1 - Recursion\n",
    "\n",
    "# Definition for a binary tree node.\n",
    "# class TreeNode:\n",
    "#   def __init__(self, val=0, left=None, right=None):\n",
    "#     self.val = val\n",
    "#     self.left = left\n",
    "#     self.right = right\n",
    "\n",
    "class Solution:\n",
    "  def searchBST(self, root: Optional[TreeNode], val: int) -> Optional[TreeNode]:\n",
    "    if root is None or root.val == val:\n",
    "      return root\n",
    "    \n",
    "    if val < root.val:\n",
    "      return self.searchBST(root.left, val)\n",
    "    else:\n",
    "      return self.searchBST(root.right, val)"
   ]
  },
  {
   "cell_type": "markdown",
   "metadata": {},
   "source": [
    "**Big-O**\n",
    "- Time complexity: `O(H)`, where H is the height of the tree. Occurs for a left/right skewed BST\n",
    "- Space complexity: `O(H)`, the size of recursion stack which would store references to all node's traversed\n",
    "\n",
    "**Thoughts**\n",
    "- Fundamental algorithm\n",
    "- Iterative approach can help save on space complexity since we do not need to store previously visited nodes"
   ]
  }
 ],
 "metadata": {
  "language_info": {
   "name": "python"
  },
  "orig_nbformat": 4
 },
 "nbformat": 4,
 "nbformat_minor": 2
}
