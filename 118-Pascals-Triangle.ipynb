{
 "cells": [
  {
   "cell_type": "markdown",
   "metadata": {},
   "source": [
    "![118](./images/118.png)"
   ]
  },
  {
   "cell_type": "code",
   "execution_count": null,
   "metadata": {},
   "outputs": [],
   "source": [
    "# 1 - Recursion + Memoization\n",
    "\n",
    "class Solution:\n",
    "  def generate(self, numRows: int) -> List[List[int]]:\n",
    "    levels = [[1] * level for level in range(1, numRows + 1)]\n",
    "\n",
    "    def recurse(row, col):\n",
    "      if col > row:\n",
    "        return 0\n",
    "      if col == 0 or row == 1:\n",
    "        return 1\n",
    "      \n",
    "      if (row, col) in memo:\n",
    "        return memo[(row, col)]\n",
    "      \n",
    "      value = recurse(row - 1, col - 1) + recurse(row - 1, col)\n",
    "      memo[(row, col)] = value\n",
    "      levels[row][col] = value\n",
    "\n",
    "      return value\n",
    "    \n",
    "    memo = {}\n",
    "    for col in range(1, numRows - 1):\n",
    "      recurse(numRows - 1, col)\n",
    "    \n",
    "    return levels"
   ]
  },
  {
   "cell_type": "markdown",
   "metadata": {},
   "source": [
    "**Big-O**\n",
    "- Time complexity: `O(n)` - traverse to base case which is ~ `O(H)` where H is roughly the size of `numRows`, subsequent values are found in constant time. Similar to memoized Fibonacci.\n",
    "- Space compleixty: `O(n^2)` - size of dictionary to store the indicies that map to precalculated values. (Assuming output list is not considered)\n",
    "  - Starting from the last row to first row\n",
    "    - `n - 2` indicies\n",
    "    - `n - 3` indicies \n",
    "    - `n - 4` indicies\n",
    "    ...\n",
    "    - The number of indices we have to keep track of follows an arithmetic progression of `1 + 2 + ... + (n-4) + (n-3) + (n-2)`\n",
    "    - Approximately `(n(n+1)/2)` ~ `O(n^2)`\n",
    "\n",
    "**Thoughts**\n",
    "- Fun question. Reminder of the importance of memoization as my initial attempt exceeded the time limit\n",
    "  ```python\n",
    "  # Time Limit Exceeded\n",
    "  class Solution:\n",
    "    def generate(self, numRows: int) -> List[List[int]]:\n",
    "      \n",
    "      levels = [[1] * level for level in range(1, numRows + 1)]\n",
    "    \n",
    "      def recurse(row, col):\n",
    "        if col > row:\n",
    "          return 0\n",
    "        if col == 0 or row == 1:\n",
    "          return 1\n",
    "        \n",
    "        # Here. Multiple repeated work performed.\n",
    "        levels[row][col] = recurse(row - 1, col - 1) + recurse(row - 1, col)\n",
    "        return levels[row][col]\n",
    "      \n",
    "      for col in range(1, numRows - 1):\n",
    "        recurse(numRows - 1, col)\n",
    "        \n",
    "      return levels\n",
    "  ```\n",
    "- The recurrence relation is easy to understand by looking at the image / animation on website\n",
    "- Base cases are when we either go out of bounds of the triangle, hit the left-edge of the triangle, or the 2nd-top most row"
   ]
  }
 ],
 "metadata": {
  "language_info": {
   "name": "python"
  },
  "orig_nbformat": 4
 },
 "nbformat": 4,
 "nbformat_minor": 2
}
