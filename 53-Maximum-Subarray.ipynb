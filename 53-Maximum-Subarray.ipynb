{
 "cells": [
  {
   "cell_type": "markdown",
   "metadata": {},
   "source": [
    "![53](./images/53.png)"
   ]
  },
  {
   "cell_type": "code",
   "execution_count": null,
   "metadata": {},
   "outputs": [],
   "source": [
    "# 1 - Greedy\n",
    "\n",
    "class Solution:\n",
    "  def maxSubArray(self, nums: List[int]) -> int:\n",
    "\n",
    "    result = cur = nums[0]\n",
    "\n",
    "    for i in range(1, len(nums)):\n",
    "      if nums[i] > cur + nums[i]:\n",
    "        cur = nums[i]\n",
    "      else:\n",
    "        cur += nums[i]\n",
    "      result = max(result, cur)\n",
    "  \n",
    "    return result"
   ]
  },
  {
   "cell_type": "markdown",
   "metadata": {},
   "source": [
    "**Big-O**\n",
    "- Time complexity: `O(n)` - iterate through all elements in the list of size n\n",
    "- Space complexity: `O(1)` - no extra data structure needed\n",
    "\n",
    "**Thoughts**\n",
    "- Greedy algorithm since we can immediately drop the previous rolling sum if we encounter an index that has a value greater than the sum of the accumulation thus far and itself"
   ]
  }
 ],
 "metadata": {
  "language_info": {
   "name": "python"
  },
  "orig_nbformat": 4
 },
 "nbformat": 4,
 "nbformat_minor": 2
}
