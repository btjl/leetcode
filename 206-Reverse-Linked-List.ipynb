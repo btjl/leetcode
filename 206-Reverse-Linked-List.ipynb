{
 "cells": [
  {
   "cell_type": "markdown",
   "metadata": {},
   "source": [
    "![206](./images/206.png)"
   ]
  },
  {
   "cell_type": "code",
   "execution_count": null,
   "metadata": {},
   "outputs": [],
   "source": [
    "# 1 - Recursion\n",
    "\n",
    "# Definition for singly-linked list.\n",
    "# class ListNode:\n",
    "#   def __init__(self, val=0, next=None):\n",
    "#     self.val = val\n",
    "#     self.next = next\n",
    "\n",
    "class Solution:\n",
    "\n",
    "  # 1.1\n",
    "  def reverseList(self, head: Optional[ListNode]) -> Optional[ListNode]:\n",
    "\n",
    "    def reverse(prev, cur):\n",
    "      if cur.next is None:\n",
    "        cur.next = prev\n",
    "        return cur\n",
    "      \n",
    "      newHead = reverse(cur, cur.next)\n",
    "      cur.next = prev\n",
    "      return newHead\n",
    "    \n",
    "    return reverse(None, head) if head else None\n",
    "\n",
    "\n",
    "  # 1.2\n",
    "  def reverseList(self, head: Optional[ListNode]) -> Optional[ListNode]:\n",
    "    if head is None:\n",
    "      return None\n",
    "    \n",
    "    newHead = self.reverseList(head.next)\n",
    "    if newHead is None:\n",
    "      newHead = head\n",
    "    \n",
    "    if head.next:\n",
    "      head.next.next = head\n",
    "    head.next = None\n",
    "\n",
    "    return newHead"
   ]
  },
  {
   "cell_type": "markdown",
   "metadata": {},
   "source": [
    "**Big-O**\n",
    "- Time complexity: `O(n)` - traversing the entire linked list\n",
    "- Space complexity: `O(n)` - recursion callstack's depth is equal to the length of the entire linked list\n",
    "\n",
    "**Thoughts**\n",
    "- **1.1** \n",
    "  - Easier to come up with since it uses an inner function that allows us to pass in a reference to the previous node. This makes it very similar to the iterative approach. Just be mindful of an initial empty list.\n",
    "- **1.2** \n",
    "  - Harder since we are restricted to passing in just 1 node reference at a time.\n",
    "  - The base case applies to both an initially empty linked list and a non-empty one. For non-empty lists, we would reassign it once to the tail node upon returning from the basecase, after which we pass this new head up the recursive callstack as the functions return value\n",
    "  - Only start the reversing from the 2nd node from the end, hence the `head.next` check,\n",
    "    - `head.next.next` is reassigning of the next node's next reference. \"Go to next node, reassign this node's next\"\n",
    "    - We can then reassign the current node's next reference to None since we still have its reference in the callstack\n",
    "  - Return from callstack illustration\n",
    "    ```\n",
    "    1 -> 2 -> 3 -> None\n",
    "                    ^\n",
    "\n",
    "    1 -> 2 -> 3 (newHead) -> None\n",
    "              ^\n",
    "\n",
    "    1 -> 2 <- 3\n",
    "         ^\n",
    "      (newHead)\n",
    "\n",
    "    1 <- 2 <- 3\n",
    "    ^\n",
    "    (newHead)\n",
    "    ```"
   ]
  }
 ],
 "metadata": {
  "language_info": {
   "name": "python"
  },
  "orig_nbformat": 4
 },
 "nbformat": 4,
 "nbformat_minor": 2
}
