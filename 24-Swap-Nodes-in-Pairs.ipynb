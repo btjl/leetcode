{
 "cells": [
  {
   "cell_type": "markdown",
   "metadata": {},
   "source": [
    "![24](./images/24.png)"
   ]
  },
  {
   "cell_type": "code",
   "execution_count": null,
   "metadata": {},
   "outputs": [],
   "source": [
    "# 1 - Recursion\n",
    "\n",
    "# Definition for singly-linked list.\n",
    "# class ListNode:\n",
    "#   def __init__(self, val=0, next=None):\n",
    "#     self.val = val\n",
    "#     self.next = next\n",
    "\n",
    "class Solution:\n",
    "  def swapPairs(self, head: Optional[ListNode]) -> Optional[ListNode]:\n",
    "    if head is None or head.next is None:\n",
    "      return head\n",
    "    \n",
    "    nextPairsHead = self.swapPairs(head.next.next)\n",
    "    head.next.next = head\n",
    "    head = head.next\n",
    "    head.next.next = nextPairsHead\n",
    "\n",
    "    return head"
   ]
  },
  {
   "cell_type": "markdown",
   "metadata": {},
   "source": [
    "**Big-O**\n",
    "- Time complexity: `O(N)` - Recurse through the list from head to tail\n",
    "- Space complexity: `O(N)` - Recurse through the list from head to tail, storing half the nodes in recursion call stack\n",
    "\n",
    "**Thoughts**\n",
    "- The problem lends itself to a recursive solution as it appears that swapping nodes in pairs is going to be a common operation that occurs throughout the entire linked list\n",
    "- Since we are swapping pairs of nodes, we can view the overall problem as\n",
    "  - Swapping `n // 2` pairs\n",
    "  - Joining the updated tails of one pair with an updated head of another pair\n",
    "- The base case occurs when either the node we are currently on,\n",
    "  - is the tailer/sentinel/null reference value and hence indicative of an even-lengthed list / empty list \n",
    "  - has no more subsequent nodes and hence indicative of an odd-lengthed list where we have reached the tail\n",
    "- Reassigning of the member variables and their next references requires some mental gymnastics\n",
    "  - It was helpful to imagine the reassignments for a smaller test case and working up to longer lists\n",
    "    - (e.g. `[]`, `[1]`, `[1,2]`, `[1,2,3]` etc...)\n",
    "  - Recursing downwards is moving 2 nodes forwards, returning from the callstack is moving 2 nodes backwards from the end\n",
    "    - Therefore as we return from our base cases, we would then have a reference to a node 2 nodes from the end of the list\n",
    "    - Understanding which node you are referring to with `head` is essential to solving this problem\n",
    "- After figuring out how to reassign the node's reference value for a given pair, we now need to connect THIS pair to the preceeding pair\n",
    "  - This is when the return value of the function is needed\n",
    "    - Since our reassignments would change the `head` of whichever pair we are currently working on, since we have already finished operating on the preceeding pair, we also passed its updated head up the callstack\n",
    "    - The returned `head` we get from a preceeding pair is then used by the current pair's `head` to connect it"
   ]
  }
 ],
 "metadata": {
  "language_info": {
   "name": "python"
  },
  "orig_nbformat": 4
 },
 "nbformat": 4,
 "nbformat_minor": 2
}
