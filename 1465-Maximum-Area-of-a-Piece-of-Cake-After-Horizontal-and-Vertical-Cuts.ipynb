{
 "cells": [
  {
   "cell_type": "markdown",
   "metadata": {},
   "source": [
    "![1465_1](./images/1465_1.png)"
   ]
  },
  {
   "cell_type": "markdown",
   "metadata": {},
   "source": [
    "![1465_2](./images/1465_2.png)"
   ]
  },
  {
   "cell_type": "code",
   "execution_count": null,
   "metadata": {},
   "outputs": [],
   "source": [
    "# 1 - Sort + Greedy\n",
    "\n",
    "class Solution:\n",
    "  def maxArea(self, h: int, w: int, horizontalCuts: List[int], verticalCuts: List[int]) -> int:\n",
    "\n",
    "    horizontalCuts.sort()\n",
    "    horizontalCuts.insert(0, 0)\n",
    "    horizontalCuts.append(h)\n",
    "\n",
    "    verticalCuts.sort()\n",
    "    verticalCuts.insert(0, 0)\n",
    "    verticalCuts.append(w)\n",
    "\n",
    "    maxHeight = 0\n",
    "    for i in range(1, len(horizontalCuts)):\n",
    "      maxHeight = max(maxHeight, horizontalCuts[i] - horizontalCuts[i-1])\n",
    "\n",
    "    maxWidth = 0\n",
    "    for i in range(1, len(verticalCuts)):\n",
    "      maxWidth = max(maxWidth, verticalCuts[i] - verticalCuts[i-1])\n",
    "    \n",
    "    return (maxHeight * maxWidth) % (10**9 + 7)"
   ]
  },
  {
   "cell_type": "markdown",
   "metadata": {},
   "source": [
    "**Big-O**\n",
    "- Time complexity: `O(nlogn)` - sorting the vertical and horizontal cuts list\n",
    "- Space complexity: `O(n)` - sort function is a variant of timsort, which uses `O(n)` extra space in the worst case\n",
    "\n",
    "**Thoughts**\n",
    "- Hints to greedy algorithm since we want to find the maximum possible area\n",
    "- Hints to sorting since example 2 provides horizontalCuts that are unordered\n",
    "- Since we are trying to get the maximum area, we can compute the maximum width and height that the lines produces separately to come up with the answer. This is because all horizontal and vertical cuts will intersect and hence we are guaranteed that it will be possible to form an area from all intersections.\n",
    "  - If instead we wanted to get all the areas, we could nest the for-loops\n",
    "    ```python\n",
    "    for i in range(1, len(horizontalCuts)):\n",
    "      height = horizontalCuts[i] - horizontalCuts[i - 1]\n",
    "      for j in range(1, len(verticalCuts)):\n",
    "        width = verticalCuts[j] - verticalCuts[j - 1]\n",
    "        area = width * height\n",
    "        ...\n",
    "    ```"
   ]
  }
 ],
 "metadata": {
  "language_info": {
   "name": "python"
  },
  "orig_nbformat": 4
 },
 "nbformat": 4,
 "nbformat_minor": 2
}
