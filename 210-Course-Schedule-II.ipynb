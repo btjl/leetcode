{
 "cells": [
  {
   "cell_type": "markdown",
   "metadata": {},
   "source": [
    "![210](./images/210.png)"
   ]
  },
  {
   "cell_type": "code",
   "execution_count": null,
   "metadata": {},
   "outputs": [],
   "source": [
    "# 1 - DFS + Cycle detection + Backtracking\n",
    "\n",
    "class Solution:\n",
    "  def findOrder(self, numCourses: int, prerequisites: List[List[int]]) -> List[int]:\n",
    "    \n",
    "    adjList = {i: [] for i in range(numCourses)}\n",
    "\n",
    "    for src, dest in prerequisites:\n",
    "      adjList[src].append(dest)\n",
    "\n",
    "    def dfs(vertex):\n",
    "      curPath.add(vertex)\n",
    "      visited.add(vertex)\n",
    "\n",
    "      for neighbour in adjList[vertex]:\n",
    "        if (neighbour in curPath or\n",
    "            neighbour not in visited and not dfs(neighbour)):\n",
    "          return False\n",
    "\n",
    "      curPath.remove(vertex)\n",
    "      topologicalOrder.append(vertex)\n",
    "\n",
    "      return True\n",
    "\n",
    "    visited = set()\n",
    "    topologicalOrder = []\n",
    "    for vertex in adjList:\n",
    "      if vertex not in visited:\n",
    "        curPath = set()\n",
    "        if not dfs(vertex):\n",
    "          return []\n",
    "\n",
    "    return topologicalOrder"
   ]
  },
  {
   "cell_type": "markdown",
   "metadata": {},
   "source": [
    "**Big-O**\n",
    "- Time complexity: `O(V + E)` - where V is the number of courses and E is the number of prerequisite pairs, since we have to visit all the courses and their neighbours\n",
    "- Space complexity: `O(V + E)` - adjacency list stores all the vertices and their outgoing edges\n",
    "\n",
    "**Thoughts**\n",
    "- Extension of 207. Course Schedule\n",
    "- All nodes that have successfully processed all its neighbours without encountering a cycle would be in in a valid topological ordering, hence we add it to the result array"
   ]
  }
 ],
 "metadata": {
  "language_info": {
   "name": "python"
  },
  "orig_nbformat": 4
 },
 "nbformat": 4,
 "nbformat_minor": 2
}
