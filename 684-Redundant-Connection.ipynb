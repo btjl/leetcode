{
 "cells": [
  {
   "cell_type": "markdown",
   "metadata": {},
   "source": [
    "![684](./images/684.png)"
   ]
  },
  {
   "cell_type": "code",
   "execution_count": 1,
   "metadata": {},
   "outputs": [],
   "source": [
    "# 1 -  Optimised UnionFind with Path Compression and Union By Rank + Cycle Detection\n",
    "\n",
    "class UnionFind:\n",
    "  def __init__(self, size):\n",
    "    self.root = [i for i in range(size + 1)]\n",
    "    self.ranks = [1] * (size + 1)\n",
    "\n",
    "  def find(self, x):\n",
    "    if x == self.root[x]:\n",
    "      return x\n",
    "    self.root[x] = self.find(self.root[x])\n",
    "    return self.root[x]\n",
    "\n",
    "  def union(self, x, y):\n",
    "    rootX = self.find(x)\n",
    "    rootY = self.find(y)\n",
    "    if rootX != rootY:\n",
    "      if self.ranks[rootX] > self.ranks[rootY]:\n",
    "        self.root[rootY] = rootX\n",
    "      elif self.ranks[rootY] > self.ranks[rootX]:\n",
    "        self.root[rootX] = rootY\n",
    "      else:\n",
    "        self.root[rootY] = rootX\n",
    "        self.ranks[rootX] += 1\n",
    "\n",
    "  def connected(self, x, y):\n",
    "    return self.find(x) == self.find(y)\n",
    "  \n",
    "class Solution:\n",
    "  def findRedundantConnection(self, edges: List[List[int]]) -> List[int]:\n",
    "    uf = UnionFind(len(edges))\n",
    "    for x, y in edges:\n",
    "      if uf.connected(x, y):\n",
    "        return [x, y]\n",
    "      else:\n",
    "        uf.union(x, y)\n",
    "\n",
    "    raise Exception(\"Error\")"
   ]
  },
  {
   "cell_type": "markdown",
   "metadata": {},
   "source": [
    "**Big-O**\n",
    "- Time complexity: `O(n)` - to iterate through all the given edges and build the UnionFind data structure.\n",
    "- Space complexity: `O(n)` - there are at most `n - 1` nodes for `n` edges, since there is at most 1 cycle in the tree-turned-graph\n",
    "\n",
    "**Thoughts**\n",
    "- Union-Find (Disjoint Set) is a very versatile data structure that can be used to find the number of connected components in an undirected graph, or identify if there are any cycles since introducing a new edge between 2 nodes that share a common root is cyclical\n",
    "- Added node \"0\" which is unconnected to the main graph for easier indexing since the nodes provided start from `1` to `n`"
   ]
  }
 ],
 "metadata": {
  "kernelspec": {
   "display_name": "Python 3.8.10 64-bit",
   "language": "python",
   "name": "python3"
  },
  "language_info": {
   "codemirror_mode": {
    "name": "ipython",
    "version": 3
   },
   "file_extension": ".py",
   "mimetype": "text/x-python",
   "name": "python",
   "nbconvert_exporter": "python",
   "pygments_lexer": "ipython3",
   "version": "3.8.10"
  },
  "orig_nbformat": 4,
  "vscode": {
   "interpreter": {
    "hash": "916dbcbb3f70747c44a77c7bcd40155683ae19c65e1c03b4aa3499c5328201f1"
   }
  }
 },
 "nbformat": 4,
 "nbformat_minor": 2
}
